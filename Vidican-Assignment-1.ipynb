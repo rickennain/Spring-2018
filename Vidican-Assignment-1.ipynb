{
 "cells": [
  {
   "cell_type": "markdown",
   "metadata": {},
   "source": [
    "# Central Limit Theorem simulation\n",
    "Let $Y_1,Y_2,\\dots,Y_n$ be iid random variables, with $E(Y_i)=\\mu$ and $Var(Y_i)=\\sigma^2 < \\infty$\n",
    "\n",
    "Define $$U_n = \\frac{\\sum_{i=1}^{n} Y_i - n\\mu}{\\sigma\\sqrt{n}} = \\frac{\\bar Y - \\mu}{\\sigma/\\sqrt{n}}$$\n",
    "Where $$\\bar Y = \\frac{1}{n}\\sum_{i=1}^{n} Y_i$$\n",
    "The distribution function of $U_n$ converges to the standard normal distribution function as $n \\rightarrow \\infty$\n",
    "\n",
    "What this all means is that probability statements about $U_n$ (which might be unknown to us) can be approximated by the corresponding probabilities of a standard normal random variable when n is sufficiently large (usually greater than 30).\n",
    "\n",
    "Therefore, we can say that this $\\bar Y$ is _asymptotically normally distributed_ with mean $\\mu$ and variance $\\sigma^2/n$. This isn't limited to dice tosses either! It could work for any distribution, known or unknown, as long its mean and variance are finite and the sample size is large enough.\n",
    "\n",
    "Let $Y_1,Y_2,\\dots,Y_n$ be iid random variables containing 10 die tosses each. According to central limit theorem"
   ]
  },
  {
   "cell_type": "code",
   "execution_count": null,
   "metadata": {},
   "outputs": [],
   "source": [
    "import random\n",
    "import numpy as np\n",
    "import math\n",
    "from scipy.stats import norm\n",
    "from matplotlib import pyplot as plt\n",
    "\n",
    "n = 1000 # number of random variables\n",
    "s = 5 # number of rolls per random variable\n",
    "\n",
    "rolls = np.random.randint(size=(s, n), low=1, high=7)\n",
    "print(\"shape of rolls:\", rolls.shape)\n",
    "print(\"unique values in rolls:\", np.unique(rolls))\n",
    "mu = 0\n",
    "means = []\n",
    "# iterate through the rows of the transpose\n",
    "for column in rolls.T: # so basically each column\n",
    "    mu = 0\n",
    "    # sum up each column\n",
    "    for i in column:\n",
    "        mu += i\n",
    "    means.append(mu/s)"
   ]
  },
  {
   "cell_type": "code",
   "execution_count": null,
   "metadata": {},
   "outputs": [],
   "source": [
    "%matplotlib inline\n",
    "\n",
    "# fixed bin size\n",
    "bins = np.arange(1, 6, 0.1) # fixed bin size\n",
    "\n",
    "plt.xlim([0, 7])\n",
    "plt.hist(means, bins=bins, alpha=0.5)\n",
    "\n",
    "mu = 3.5\n",
    "sigma = 2.0833\n",
    "rng = range(1,7)\n",
    "# Generate normal distribution with given mean and standard deviation.\n",
    "dist = norm(mu, sigma)\n",
    "plt.plot(rng, dist.pdf(rng), 'r', linewidth=2)\n",
    "\n",
    "plt.title('Sample Means of each Random Variable')\n",
    "plt.xlabel('sample means')\n",
    "plt.ylabel('count')\n",
    "\n",
    "plt.show()"
   ]
  }
 ],
 "metadata": {
  "kernelspec": {
   "display_name": "Python 3",
   "language": "python",
   "name": "python3"
  },
  "language_info": {
   "codemirror_mode": {
    "name": "ipython",
    "version": 3
   },
   "file_extension": ".py",
   "mimetype": "text/x-python",
   "name": "python",
   "nbconvert_exporter": "python",
   "pygments_lexer": "ipython3",
   "version": "3.6.5"
  }
 },
 "nbformat": 4,
 "nbformat_minor": 2
}
